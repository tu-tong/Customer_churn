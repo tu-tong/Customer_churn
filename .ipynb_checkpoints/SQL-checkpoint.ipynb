{
 "cells": [
  {
   "cell_type": "code",
   "execution_count": 1,
   "id": "cb37594f-84ae-45f8-9010-05208bdcfe7c",
   "metadata": {},
   "outputs": [],
   "source": [
    "import pandas as pd\n",
    "import sqlite3"
   ]
  },
  {
   "cell_type": "code",
   "execution_count": 3,
   "id": "12bf11f2-d123-4dd9-b1d3-7f3c1c1a93e7",
   "metadata": {},
   "outputs": [],
   "source": [
    "excel_file = \"/Users/tu/Documents/Tu/Data_Portfolio/Customer_churn/Dataset/a_IBM Telco Customers Churn Datasets.xlsx\"\n",
    "database =  \"telco_churn.db\""
   ]
  },
  {
   "cell_type": "code",
   "execution_count": 5,
   "id": "a62df3b5-56cf-47ed-8259-c15c5e1e957e",
   "metadata": {},
   "outputs": [],
   "source": [
    "excel_data = pd.ExcelFile(excel_file)\n",
    "all_sheets = excel_data.sheet_names\n",
    "\n",
    "\n",
    "# exclude the Population and Telco_churn sheets\n",
    "sheets_included = all_sheets[:-2]\n",
    "\n",
    "# create a connection\n",
    "connect = sqlite3.connect(database)\n",
    "\n",
    "# load each sheet into the database\n",
    "for sheet in sheets_included:\n",
    "    df = excel_data.parse(sheet)\n",
    "    #convert the data to tables to use in sql\n",
    "    df.to_sql(sheet, connect, if)"
   ]
  },
  {
   "cell_type": "code",
   "execution_count": null,
   "id": "a3daa176-bc4b-4883-80a3-6c4990368cba",
   "metadata": {},
   "outputs": [],
   "source": []
  }
 ],
 "metadata": {
  "kernelspec": {
   "display_name": "Python 3 (ipykernel)",
   "language": "python",
   "name": "python3"
  },
  "language_info": {
   "codemirror_mode": {
    "name": "ipython",
    "version": 3
   },
   "file_extension": ".py",
   "mimetype": "text/x-python",
   "name": "python",
   "nbconvert_exporter": "python",
   "pygments_lexer": "ipython3",
   "version": "3.12.4"
  }
 },
 "nbformat": 4,
 "nbformat_minor": 5
}
