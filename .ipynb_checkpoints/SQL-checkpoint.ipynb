{
 "cells": [
  {
   "cell_type": "code",
   "execution_count": 1,
   "id": "cb37594f-84ae-45f8-9010-05208bdcfe7c",
   "metadata": {},
   "outputs": [],
   "source": [
    "import pandas as pd\n",
    "import sqlite3"
   ]
  },
  {
   "cell_type": "code",
   "execution_count": 2,
   "id": "12bf11f2-d123-4dd9-b1d3-7f3c1c1a93e7",
   "metadata": {},
   "outputs": [],
   "source": [
    "excel_file = \"/Users/tu/Documents/Tu/Data_Portfolio/Customer_churn/Dataset/a_IBM Telco Customers Churn Datasets.xlsx\"\n",
    "database =  \"telco_churn.db\""
   ]
  },
  {
   "cell_type": "code",
   "execution_count": 3,
   "id": "a62df3b5-56cf-47ed-8259-c15c5e1e957e",
   "metadata": {},
   "outputs": [
    {
     "name": "stdout",
     "output_type": "stream",
     "text": [
      "Loaded sheet: Customer_Info into the database\n",
      "Loaded sheet: Service_Options into the database\n",
      "Loaded sheet: Online_Services into the database\n",
      "Loaded sheet: Payment_Info into the database\n",
      "Loaded sheet: Status_Analysis into the database\n",
      "Loaded sheet: Location_Data into the database\n",
      "Sucessfully loaded all sheets\n"
     ]
    }
   ],
   "source": [
    "excel_data = pd.ExcelFile(excel_file)\n",
    "all_sheets = excel_data.sheet_names\n",
    "\n",
    "\n",
    "# exclude the Population and Telco_churn sheets\n",
    "sheets_included = all_sheets[:-2]\n",
    "\n",
    "# create a connection\n",
    "connect = sqlite3.connect(database)\n",
    "\n",
    "# load each sheet into the database\n",
    "for sheet in sheets_included:\n",
    "    df = excel_data.parse(sheet)\n",
    "    #convert the data to tables to use in sql\n",
    "    df.to_sql(sheet, connect, if_exists = 'replace', index =  'False')\n",
    "    print(f\"Loaded sheet: {sheet} into the database\")\n",
    "\n",
    "connect.close()\n",
    "print(\"Sucessfully loaded all sheets\")"
   ]
  },
  {
   "cell_type": "code",
   "execution_count": 4,
   "id": "a3daa176-bc4b-4883-80a3-6c4990368cba",
   "metadata": {},
   "outputs": [],
   "source": [
    "%load_ext sql"
   ]
  },
  {
   "cell_type": "code",
   "execution_count": 5,
   "id": "4ad51037-75f0-42bf-83cf-e5fb6f28aff4",
   "metadata": {},
   "outputs": [],
   "source": [
    "%sql sqlite:////Users/tu/Documents/Tu/Data_Portfolio/Customer_churn/telco_churn.db"
   ]
  },
  {
   "cell_type": "markdown",
   "id": "85e12624-aadd-43a9-a4cd-97ebc1e4668f",
   "metadata": {},
   "source": [
    "### Churn Rate"
   ]
  },
  {
   "cell_type": "code",
   "execution_count": 7,
   "id": "13aba55d-330e-4874-a7d7-729646cc71b4",
   "metadata": {},
   "outputs": [
    {
     "name": "stdout",
     "output_type": "stream",
     "text": [
      " * sqlite:////Users/tu/Documents/Tu/Data_Portfolio/Customer_churn/telco_churn.db\n",
      "Done.\n"
     ]
    },
    {
     "data": {
      "text/html": [
       "<table>\n",
       "    <thead>\n",
       "        <tr>\n",
       "            <th>Customer Status</th>\n",
       "            <th>Number of Customers</th>\n",
       "            <th>Percentage of customers</th>\n",
       "        </tr>\n",
       "    </thead>\n",
       "    <tbody>\n",
       "        <tr>\n",
       "            <td>Churned</td>\n",
       "            <td>1869</td>\n",
       "            <td>26.5</td>\n",
       "        </tr>\n",
       "        <tr>\n",
       "            <td>Joined</td>\n",
       "            <td>454</td>\n",
       "            <td>6.4</td>\n",
       "        </tr>\n",
       "        <tr>\n",
       "            <td>Stayed</td>\n",
       "            <td>4720</td>\n",
       "            <td>67.0</td>\n",
       "        </tr>\n",
       "    </tbody>\n",
       "</table>"
      ],
      "text/plain": [
       "[('Churned', 1869, 26.5), ('Joined', 454, 6.4), ('Stayed', 4720, 67.0)]"
      ]
     },
     "execution_count": 7,
     "metadata": {},
     "output_type": "execute_result"
    }
   ],
   "source": [
    "%%sql\n",
    "SELECT \n",
    "    customer_status AS 'Customer Status', \n",
    "    COUNT(customer_id) AS 'Number of Customers',\n",
    "    ROUND((COUNT(customer_id)*100.0)/(SELECT COUNT(customer_id) FROM Status_Analysis), 1) AS 'Percentage of customers'\n",
    "FROM Status_Analysis\n",
    "GROUP BY customer_status"
   ]
  },
  {
   "cell_type": "markdown",
   "id": "c5c49902-79fe-41a3-b893-822031c95461",
   "metadata": {},
   "source": [
    "<b>Churn rate: 26.5% </b> </br>\n",
    "Churned customers account for over a quarter of total number of customers, which is considered high. This means that we should look at the reasons or similar patterns why many customers left Telco. </br>\n",
    "</br>\n",
    "<b>Percent of new customers: 6.4%</b> <br>\n",
    "This indicates that while there are still new customers joining, the rate of joining is much lower than the rate of customers leaving. Telco needs to improve their strategies to attract new customers.</br>\n",
    "</br>\n",
    "<b>Percent of loyal customers: 67%</b> <br>\n",
    "Large amount of customers choose to stay with Telco. This shows the need for Telco to improve customer satisfaction while working on loyalty programs for existing customers."
   ]
  },
  {
   "cell_type": "markdown",
   "id": "44325626-469d-432a-b945-61c89da2cd98",
   "metadata": {},
   "source": [
    "### Churn Rate by Gender, Age Group, and Number of dependents"
   ]
  },
  {
   "cell_type": "code",
   "execution_count": 51,
   "id": "0ed16f89-94c1-418a-ac3e-2e1a02d8b334",
   "metadata": {},
   "outputs": [
    {
     "name": "stdout",
     "output_type": "stream",
     "text": [
      " * sqlite:////Users/tu/Documents/Tu/Data_Portfolio/Customer_churn/telco_churn.db\n",
      "Done.\n"
     ]
    },
    {
     "data": {
      "text/html": [
       "<table>\n",
       "    <thead>\n",
       "        <tr>\n",
       "            <th>gender</th>\n",
       "            <th>COUNT(c.customer_id)</th>\n",
       "        </tr>\n",
       "    </thead>\n",
       "    <tbody>\n",
       "        <tr>\n",
       "            <td>Female</td>\n",
       "            <td>939</td>\n",
       "        </tr>\n",
       "        <tr>\n",
       "            <td>Male</td>\n",
       "            <td>930</td>\n",
       "        </tr>\n",
       "    </tbody>\n",
       "</table>"
      ],
      "text/plain": [
       "[('Female', 939), ('Male', 930)]"
      ]
     },
     "execution_count": 51,
     "metadata": {},
     "output_type": "execute_result"
    }
   ],
   "source": [
    "%%sql \n",
    "SELECT c.gender, COUNT(c.customer_id)\n",
    "FROM Customer_Info as c\n",
    "JOIN Status_Analysis as s\n",
    "ON c.customer_id = s.customer_id\n",
    "WHERE customer_status = 'Churned'\n",
    "GROUP BY c.gender"
   ]
  },
  {
   "cell_type": "markdown",
   "id": "d253fccf-87cd-4541-9da0-dfb13bdcc030",
   "metadata": {},
   "source": [
    "<b> Impact of gender on churn rate </b> </br> \n",
    "Number of customers who left is equal for both male and female. There is no evidence that genders affect customers' decision to leave in this dataset."
   ]
  },
  {
   "cell_type": "code",
   "execution_count": 11,
   "id": "17cc12db-4946-43aa-97cf-85f62487d5ca",
   "metadata": {},
   "outputs": [
    {
     "name": "stdout",
     "output_type": "stream",
     "text": [
      " * sqlite:////Users/tu/Documents/Tu/Data_Portfolio/Customer_churn/telco_churn.db\n",
      "(sqlite3.OperationalError) near \"AND\": syntax error\n",
      "[SQL: SELECT \n",
      "    CASE \n",
      "        WHEN customers.age BETWEEN AND THEN\n",
      "        \n",
      "    END AS 'Age group'\n",
      "FROM Customer_Info as c\n",
      "JOIN Status_Analysis as s\n",
      "USING (customer_id)]\n",
      "(Background on this error at: https://sqlalche.me/e/20/e3q8)\n"
     ]
    }
   ],
   "source": [
    "%%sql \n",
    "SELECT \n",
    "    CASE \n",
    "        WHEN customers.age BETWEEN AND THEN\n",
    "        \n",
    "    END AS 'Age group'\n",
    "FROM Customer_Info as c\n",
    "JOIN Status_Analysis as s\n",
    "USING (customer_id) "
   ]
  },
  {
   "cell_type": "markdown",
   "id": "873d1600-fe54-4d7d-ad9e-09dded5705ab",
   "metadata": {},
   "source": [
    "<b> Impact of age on churn rate </b> </br> \n"
   ]
  },
  {
   "cell_type": "markdown",
   "id": "4dff467e-0144-40b8-9d34-261b70e9d795",
   "metadata": {},
   "source": [
    "##### Relationship between churn status and number of dependents"
   ]
  },
  {
   "cell_type": "markdown",
   "id": "987fb9fe-0e2f-42db-8fb3-9d0bfdfd4ffb",
   "metadata": {},
   "source": [
    "### % of customers for each type of payment, by customer status"
   ]
  },
  {
   "cell_type": "code",
   "execution_count": 39,
   "id": "ec992e24-f3d0-4665-95f8-f451dc862861",
   "metadata": {},
   "outputs": [
    {
     "name": "stdout",
     "output_type": "stream",
     "text": [
      " * sqlite:////Users/tu/Documents/Tu/Data_Portfolio/Customer_churn/telco_churn.db\n",
      "Done.\n"
     ]
    },
    {
     "data": {
      "text/html": [
       "<table>\n",
       "    <thead>\n",
       "        <tr>\n",
       "            <th>customer_status</th>\n",
       "            <th>payment_method</th>\n",
       "            <th>Number of customers</th>\n",
       "            <th>Total customers by payment method</th>\n",
       "            <th>Percentage by payment method (%)</th>\n",
       "        </tr>\n",
       "    </thead>\n",
       "    <tbody>\n",
       "        <tr>\n",
       "            <td>Churned</td>\n",
       "            <td>Bank transfer (automatic)</td>\n",
       "            <td>258</td>\n",
       "            <td>1544</td>\n",
       "            <td>16.7</td>\n",
       "        </tr>\n",
       "        <tr>\n",
       "            <td>Joined</td>\n",
       "            <td>Bank transfer (automatic)</td>\n",
       "            <td>33</td>\n",
       "            <td>1544</td>\n",
       "            <td>2.1</td>\n",
       "        </tr>\n",
       "        <tr>\n",
       "            <td>Stayed</td>\n",
       "            <td>Bank transfer (automatic)</td>\n",
       "            <td>1253</td>\n",
       "            <td>1544</td>\n",
       "            <td>81.2</td>\n",
       "        </tr>\n",
       "        <tr>\n",
       "            <td>Churned</td>\n",
       "            <td>Credit card (automatic)</td>\n",
       "            <td>232</td>\n",
       "            <td>1522</td>\n",
       "            <td>15.2</td>\n",
       "        </tr>\n",
       "        <tr>\n",
       "            <td>Joined</td>\n",
       "            <td>Credit card (automatic)</td>\n",
       "            <td>39</td>\n",
       "            <td>1522</td>\n",
       "            <td>2.6</td>\n",
       "        </tr>\n",
       "        <tr>\n",
       "            <td>Stayed</td>\n",
       "            <td>Credit card (automatic)</td>\n",
       "            <td>1251</td>\n",
       "            <td>1522</td>\n",
       "            <td>82.2</td>\n",
       "        </tr>\n",
       "        <tr>\n",
       "            <td>Churned</td>\n",
       "            <td>Electronic check</td>\n",
       "            <td>1071</td>\n",
       "            <td>2365</td>\n",
       "            <td>45.3</td>\n",
       "        </tr>\n",
       "        <tr>\n",
       "            <td>Joined</td>\n",
       "            <td>Electronic check</td>\n",
       "            <td>148</td>\n",
       "            <td>2365</td>\n",
       "            <td>6.3</td>\n",
       "        </tr>\n",
       "        <tr>\n",
       "            <td>Stayed</td>\n",
       "            <td>Electronic check</td>\n",
       "            <td>1146</td>\n",
       "            <td>2365</td>\n",
       "            <td>48.5</td>\n",
       "        </tr>\n",
       "        <tr>\n",
       "            <td>Churned</td>\n",
       "            <td>Mailed check</td>\n",
       "            <td>308</td>\n",
       "            <td>1612</td>\n",
       "            <td>19.1</td>\n",
       "        </tr>\n",
       "        <tr>\n",
       "            <td>Joined</td>\n",
       "            <td>Mailed check</td>\n",
       "            <td>234</td>\n",
       "            <td>1612</td>\n",
       "            <td>14.5</td>\n",
       "        </tr>\n",
       "        <tr>\n",
       "            <td>Stayed</td>\n",
       "            <td>Mailed check</td>\n",
       "            <td>1070</td>\n",
       "            <td>1612</td>\n",
       "            <td>66.4</td>\n",
       "        </tr>\n",
       "    </tbody>\n",
       "</table>"
      ],
      "text/plain": [
       "[('Churned', 'Bank transfer (automatic)', 258, 1544, 16.7),\n",
       " ('Joined', 'Bank transfer (automatic)', 33, 1544, 2.1),\n",
       " ('Stayed', 'Bank transfer (automatic)', 1253, 1544, 81.2),\n",
       " ('Churned', 'Credit card (automatic)', 232, 1522, 15.2),\n",
       " ('Joined', 'Credit card (automatic)', 39, 1522, 2.6),\n",
       " ('Stayed', 'Credit card (automatic)', 1251, 1522, 82.2),\n",
       " ('Churned', 'Electronic check', 1071, 2365, 45.3),\n",
       " ('Joined', 'Electronic check', 148, 2365, 6.3),\n",
       " ('Stayed', 'Electronic check', 1146, 2365, 48.5),\n",
       " ('Churned', 'Mailed check', 308, 1612, 19.1),\n",
       " ('Joined', 'Mailed check', 234, 1612, 14.5),\n",
       " ('Stayed', 'Mailed check', 1070, 1612, 66.4)]"
      ]
     },
     "execution_count": 39,
     "metadata": {},
     "output_type": "execute_result"
    }
   ],
   "source": [
    "%%sql\n",
    "-- This is onot helpful \n",
    "SELECT \n",
    "    s.customer_status, \n",
    "    p.payment_method, \n",
    "    COUNT(p.customer_id) AS 'Number of customers',\n",
    "    SUM(COUNT(p.customer_id)) OVER (PARTITION BY p.payment_method) AS 'Total customers by payment method',\n",
    "    ROUND(COUNT(p.customer_id)*100.0/SUM(COUNT(p.customer_id)) OVER (PARTITION BY p.payment_method), 1) AS 'Percentage by payment method (%)'\n",
    "FROM Payment_Info AS p \n",
    "JOIN Status_Analysis AS s\n",
    "USING (customer_id)\n",
    "GROUP BY p.payment_method, s.customer_status"
   ]
  },
  {
   "cell_type": "code",
   "execution_count": 37,
   "id": "3230dd23-e41d-41e3-b132-0ef9c5f85bbe",
   "metadata": {},
   "outputs": [
    {
     "name": "stdout",
     "output_type": "stream",
     "text": [
      " * sqlite:////Users/tu/Documents/Tu/Data_Portfolio/Customer_churn/telco_churn.db\n",
      "Done.\n"
     ]
    },
    {
     "data": {
      "text/html": [
       "<table>\n",
       "    <thead>\n",
       "        <tr>\n",
       "            <th>customer_status</th>\n",
       "            <th>payment_method</th>\n",
       "            <th>Number of customers</th>\n",
       "            <th>Total customers by status</th>\n",
       "            <th>Percentage by customer status (%)</th>\n",
       "        </tr>\n",
       "    </thead>\n",
       "    <tbody>\n",
       "        <tr>\n",
       "            <td>Churned</td>\n",
       "            <td>Bank transfer (automatic)</td>\n",
       "            <td>258</td>\n",
       "            <td>1869</td>\n",
       "            <td>13.8</td>\n",
       "        </tr>\n",
       "        <tr>\n",
       "            <td>Churned</td>\n",
       "            <td>Credit card (automatic)</td>\n",
       "            <td>232</td>\n",
       "            <td>1869</td>\n",
       "            <td>12.4</td>\n",
       "        </tr>\n",
       "        <tr>\n",
       "            <td>Churned</td>\n",
       "            <td>Electronic check</td>\n",
       "            <td>1071</td>\n",
       "            <td>1869</td>\n",
       "            <td>57.3</td>\n",
       "        </tr>\n",
       "        <tr>\n",
       "            <td>Churned</td>\n",
       "            <td>Mailed check</td>\n",
       "            <td>308</td>\n",
       "            <td>1869</td>\n",
       "            <td>16.5</td>\n",
       "        </tr>\n",
       "        <tr>\n",
       "            <td>Joined</td>\n",
       "            <td>Bank transfer (automatic)</td>\n",
       "            <td>33</td>\n",
       "            <td>454</td>\n",
       "            <td>7.3</td>\n",
       "        </tr>\n",
       "        <tr>\n",
       "            <td>Joined</td>\n",
       "            <td>Credit card (automatic)</td>\n",
       "            <td>39</td>\n",
       "            <td>454</td>\n",
       "            <td>8.6</td>\n",
       "        </tr>\n",
       "        <tr>\n",
       "            <td>Joined</td>\n",
       "            <td>Electronic check</td>\n",
       "            <td>148</td>\n",
       "            <td>454</td>\n",
       "            <td>32.6</td>\n",
       "        </tr>\n",
       "        <tr>\n",
       "            <td>Joined</td>\n",
       "            <td>Mailed check</td>\n",
       "            <td>234</td>\n",
       "            <td>454</td>\n",
       "            <td>51.5</td>\n",
       "        </tr>\n",
       "        <tr>\n",
       "            <td>Stayed</td>\n",
       "            <td>Bank transfer (automatic)</td>\n",
       "            <td>1253</td>\n",
       "            <td>4720</td>\n",
       "            <td>26.5</td>\n",
       "        </tr>\n",
       "        <tr>\n",
       "            <td>Stayed</td>\n",
       "            <td>Credit card (automatic)</td>\n",
       "            <td>1251</td>\n",
       "            <td>4720</td>\n",
       "            <td>26.5</td>\n",
       "        </tr>\n",
       "        <tr>\n",
       "            <td>Stayed</td>\n",
       "            <td>Electronic check</td>\n",
       "            <td>1146</td>\n",
       "            <td>4720</td>\n",
       "            <td>24.3</td>\n",
       "        </tr>\n",
       "        <tr>\n",
       "            <td>Stayed</td>\n",
       "            <td>Mailed check</td>\n",
       "            <td>1070</td>\n",
       "            <td>4720</td>\n",
       "            <td>22.7</td>\n",
       "        </tr>\n",
       "    </tbody>\n",
       "</table>"
      ],
      "text/plain": [
       "[('Churned', 'Bank transfer (automatic)', 258, 1869, 13.8),\n",
       " ('Churned', 'Credit card (automatic)', 232, 1869, 12.4),\n",
       " ('Churned', 'Electronic check', 1071, 1869, 57.3),\n",
       " ('Churned', 'Mailed check', 308, 1869, 16.5),\n",
       " ('Joined', 'Bank transfer (automatic)', 33, 454, 7.3),\n",
       " ('Joined', 'Credit card (automatic)', 39, 454, 8.6),\n",
       " ('Joined', 'Electronic check', 148, 454, 32.6),\n",
       " ('Joined', 'Mailed check', 234, 454, 51.5),\n",
       " ('Stayed', 'Bank transfer (automatic)', 1253, 4720, 26.5),\n",
       " ('Stayed', 'Credit card (automatic)', 1251, 4720, 26.5),\n",
       " ('Stayed', 'Electronic check', 1146, 4720, 24.3),\n",
       " ('Stayed', 'Mailed check', 1070, 4720, 22.7)]"
      ]
     },
     "execution_count": 37,
     "metadata": {},
     "output_type": "execute_result"
    }
   ],
   "source": [
    "%%sql\n",
    "SELECT \n",
    "    s.customer_status, \n",
    "    p.payment_method, \n",
    "    COUNT(p.customer_id) AS 'Number of customers',\n",
    "    SUM(COUNT(s.customer_id)) OVER (PARTITION BY s.customer_status) AS 'Total customers by status',\n",
    "    ROUND(COUNT(p.customer_id)*100.0/SUM(COUNT(s.customer_id)) OVER (PARTITION BY s.customer_status), 1) AS 'Percentage by customer status (%)'\n",
    "FROM Payment_Info AS p \n",
    "JOIN Status_Analysis AS s\n",
    "USING (customer_id)\n",
    "GROUP BY p.payment_method, s.customer_status"
   ]
  },
  {
   "cell_type": "markdown",
   "id": "635a50a3-6402-4876-a6f5-73fc26b493b6",
   "metadata": {},
   "source": [
    "Highest churn rate occurs in customers who use electronic check. Customers who stay with Telco use all types of payment methods equally. "
   ]
  },
  {
   "cell_type": "markdown",
   "id": "5499ec68-4660-4ffe-860b-6c8dcdc13ae1",
   "metadata": {},
   "source": [
    "## Analysis of current offers, plans, and strategies of Telco and how they impact churn decisions "
   ]
  },
  {
   "cell_type": "markdown",
   "id": "21542aa4-6163-4482-a457-c6ab115c3a5d",
   "metadata": {},
   "source": [
    "### Main churn reason"
   ]
  },
  {
   "cell_type": "code",
   "execution_count": 84,
   "id": "a0423aad-f193-4b7a-807e-eee588399d7c",
   "metadata": {},
   "outputs": [
    {
     "name": "stdout",
     "output_type": "stream",
     "text": [
      " * sqlite:////Users/tu/Documents/Tu/Data_Portfolio/Customer_churn/telco_churn.db\n",
      "Done.\n"
     ]
    },
    {
     "data": {
      "text/html": [
       "<table>\n",
       "    <thead>\n",
       "        <tr>\n",
       "            <th>Reason</th>\n",
       "            <th>Number of customers</th>\n",
       "        </tr>\n",
       "    </thead>\n",
       "    <tbody>\n",
       "        <tr>\n",
       "            <td>Competitor</td>\n",
       "            <td>841</td>\n",
       "        </tr>\n",
       "        <tr>\n",
       "            <td>Attitude</td>\n",
       "            <td>314</td>\n",
       "        </tr>\n",
       "        <tr>\n",
       "            <td>Dissatisfaction</td>\n",
       "            <td>303</td>\n",
       "        </tr>\n",
       "        <tr>\n",
       "            <td>Price</td>\n",
       "            <td>211</td>\n",
       "        </tr>\n",
       "        <tr>\n",
       "            <td>Other</td>\n",
       "            <td>200</td>\n",
       "        </tr>\n",
       "    </tbody>\n",
       "</table>"
      ],
      "text/plain": [
       "[('Competitor', 841),\n",
       " ('Attitude', 314),\n",
       " ('Dissatisfaction', 303),\n",
       " ('Price', 211),\n",
       " ('Other', 200)]"
      ]
     },
     "execution_count": 84,
     "metadata": {},
     "output_type": "execute_result"
    }
   ],
   "source": [
    "%%sql \n",
    "SELECT \n",
    "    churn_category AS 'Reason', \n",
    "    COUNT(customer_id) AS 'Number of customers'\n",
    "FROM Status_Analysis\n",
    "WHERE customer_status = 'Churned'\n",
    "GROUP BY churn_category\n",
    "ORDER BY COUNT(customer_id) DESC"
   ]
  },
  {
   "cell_type": "markdown",
   "id": "004a6a3c-89b0-450e-b8f4-8cd6d21565cb",
   "metadata": {},
   "source": [
    "<b> Main reason for churning: Competitor </b> </br> \n",
    "Significant number of customers (over 800 customers) decide to leave Telco for other companies. This means that there is a chance that offers or plans by Telco is not as appealing as other competitors. Since we don't have information on other companies' offerings, we can use our current dataset to narrow down factors that can lead to higher churn rate of customers. \n"
   ]
  },
  {
   "cell_type": "markdown",
   "id": "ccfb1a93-fdf8-412a-8fa7-a2418e0e4234",
   "metadata": {},
   "source": [
    "### Examination of current offers and their responding churn rate"
   ]
  },
  {
   "cell_type": "code",
   "execution_count": 106,
   "id": "a0778f3f-d5de-4e40-a103-3dcf9aaca581",
   "metadata": {},
   "outputs": [
    {
     "name": "stdout",
     "output_type": "stream",
     "text": [
      " * sqlite:////Users/tu/Documents/Tu/Data_Portfolio/Customer_churn/telco_churn.db\n",
      "Done.\n"
     ]
    },
    {
     "data": {
      "text/html": [
       "<table>\n",
       "    <thead>\n",
       "        <tr>\n",
       "            <th>offer</th>\n",
       "            <th>Number of customers who churned</th>\n",
       "        </tr>\n",
       "    </thead>\n",
       "    <tbody>\n",
       "        <tr>\n",
       "            <td>None</td>\n",
       "            <td>1051</td>\n",
       "        </tr>\n",
       "        <tr>\n",
       "            <td>Offer E</td>\n",
       "            <td>426</td>\n",
       "        </tr>\n",
       "        <tr>\n",
       "            <td>Offer D</td>\n",
       "            <td>161</td>\n",
       "        </tr>\n",
       "        <tr>\n",
       "            <td>Offer B</td>\n",
       "            <td>101</td>\n",
       "        </tr>\n",
       "        <tr>\n",
       "            <td>Offer C</td>\n",
       "            <td>95</td>\n",
       "        </tr>\n",
       "        <tr>\n",
       "            <td>Offer A</td>\n",
       "            <td>35</td>\n",
       "        </tr>\n",
       "    </tbody>\n",
       "</table>"
      ],
      "text/plain": [
       "[(None, 1051),\n",
       " ('Offer E', 426),\n",
       " ('Offer D', 161),\n",
       " ('Offer B', 101),\n",
       " ('Offer C', 95),\n",
       " ('Offer A', 35)]"
      ]
     },
     "execution_count": 106,
     "metadata": {},
     "output_type": "execute_result"
    }
   ],
   "source": [
    "%%sql \n",
    "SELECT offer, COUNT(customer_id) AS 'Number of customers who churned'\n",
    "FROM Service_Options\n",
    "JOIN Status_Analysis\n",
    "USING (customer_id)\n",
    "WHERE customer_status = 'Churned'\n",
    "GROUP BY offer\n",
    "ORDER BY COUNT(customer_id) DESC"
   ]
  },
  {
   "cell_type": "markdown",
   "id": "5bf61301-b548-4098-a99d-7f2f6f4f87e0",
   "metadata": {},
   "source": [
    "Customers who received no offer tend to leave Telco more than those that receive certain type of offer. Offer A seems to be the best in terms of keeping loyal customers. "
   ]
  },
  {
   "cell_type": "markdown",
   "id": "f9e50425-7dc6-4fd6-beac-d7f935590d21",
   "metadata": {},
   "source": [
    "<b> Likeliness to refer to a friend based on the offer they received </b>"
   ]
  },
  {
   "cell_type": "code",
   "execution_count": 237,
   "id": "4cf08358-acec-4e5e-9068-93490fe66cbe",
   "metadata": {},
   "outputs": [
    {
     "name": "stdout",
     "output_type": "stream",
     "text": [
      " * sqlite:////Users/tu/Documents/Tu/Data_Portfolio/Customer_churn/telco_churn.db\n",
      "Done.\n"
     ]
    },
    {
     "data": {
      "text/html": [
       "<table>\n",
       "    <thead>\n",
       "        <tr>\n",
       "            <th>offer</th>\n",
       "            <th>Number of customers who referred a friend</th>\n",
       "        </tr>\n",
       "    </thead>\n",
       "    <tbody>\n",
       "        <tr>\n",
       "            <td>None</td>\n",
       "            <td>1758</td>\n",
       "        </tr>\n",
       "        <tr>\n",
       "            <td>Offer A</td>\n",
       "            <td>388</td>\n",
       "        </tr>\n",
       "        <tr>\n",
       "            <td>Offer B</td>\n",
       "            <td>490</td>\n",
       "        </tr>\n",
       "        <tr>\n",
       "            <td>Offer C</td>\n",
       "            <td>184</td>\n",
       "        </tr>\n",
       "        <tr>\n",
       "            <td>Offer D</td>\n",
       "            <td>220</td>\n",
       "        </tr>\n",
       "        <tr>\n",
       "            <td>Offer E</td>\n",
       "            <td>182</td>\n",
       "        </tr>\n",
       "    </tbody>\n",
       "</table>"
      ],
      "text/plain": [
       "[(None, 1758),\n",
       " ('Offer A', 388),\n",
       " ('Offer B', 490),\n",
       " ('Offer C', 184),\n",
       " ('Offer D', 220),\n",
       " ('Offer E', 182)]"
      ]
     },
     "execution_count": 237,
     "metadata": {},
     "output_type": "execute_result"
    }
   ],
   "source": [
    "%%sql\n",
    "SELECT \n",
    "    offer, \n",
    "    COUNT(customer_id) AS 'Number of customers who referred a friend'\n",
    "FROM Service_Options\n",
    "WHERE referred_a_friend = 'Yes'\n",
    "GROUP BY offer"
   ]
  },
  {
   "cell_type": "markdown",
   "id": "0ca3da82-b07d-4f03-8a6c-1f5116abb983",
   "metadata": {},
   "source": [
    "While customers with none offer have a higher tendency to churn, they are surprisingly more likely to refer to a friend."
   ]
  },
  {
   "cell_type": "markdown",
   "id": "e271de75-7654-4a01-ac9b-aae35f140846",
   "metadata": {},
   "source": [
    "#### Do customers with higher tenure more likely to refer to more friends?"
   ]
  },
  {
   "cell_type": "code",
   "execution_count": 180,
   "id": "9171f84c-c6df-4e0e-a014-cac6b092c10b",
   "metadata": {},
   "outputs": [
    {
     "name": "stdout",
     "output_type": "stream",
     "text": [
      " * sqlite:////Users/tu/Documents/Tu/Data_Portfolio/Customer_churn/telco_churn.db\n",
      "Done.\n"
     ]
    },
    {
     "data": {
      "text/html": [
       "<table>\n",
       "    <thead>\n",
       "        <tr>\n",
       "            <th>loyalty_status</th>\n",
       "            <th>Number of customers</th>\n",
       "        </tr>\n",
       "    </thead>\n",
       "    <tbody>\n",
       "        <tr>\n",
       "            <td>Long-term customer</td>\n",
       "            <td>1895</td>\n",
       "        </tr>\n",
       "        <tr>\n",
       "            <td>Moderate tenure</td>\n",
       "            <td>420</td>\n",
       "        </tr>\n",
       "        <tr>\n",
       "            <td>Satisfied customer</td>\n",
       "            <td>381</td>\n",
       "        </tr>\n",
       "        <tr>\n",
       "            <td>High risk of churn</td>\n",
       "            <td>300</td>\n",
       "        </tr>\n",
       "        <tr>\n",
       "            <td>Early tenure</td>\n",
       "            <td>226</td>\n",
       "        </tr>\n",
       "    </tbody>\n",
       "</table>"
      ],
      "text/plain": [
       "[('Long-term customer', 1895),\n",
       " ('Moderate tenure', 420),\n",
       " ('Satisfied customer', 381),\n",
       " ('High risk of churn', 300),\n",
       " ('Early tenure', 226)]"
      ]
     },
     "execution_count": 180,
     "metadata": {},
     "output_type": "execute_result"
    }
   ],
   "source": [
    "%%sql \n",
    "SELECT \n",
    "    CASE\n",
    "        WHEN tenure BETWEEN 0 AND 6 THEN 'High risk of churn'\n",
    "        WHEN tenure BETWEEN 7 AND 12 THEN 'Early tenure'\n",
    "        WHEN tenure BETWEEN 13 AND 24 THEN 'Moderate tenure'\n",
    "        WHEN tenure BETWEEN 25 AND 36 THEN 'Satisfied customer'\n",
    "        WHEN tenure BETWEEN 37 AND 60 THEN 'Long-term customer'\n",
    "        WHEN tenure>60 THEN 'Long-term customer'\n",
    "    END AS loyalty_status, \n",
    "    COUNT(customer_id) AS 'Number of customers who referred a friend'\n",
    "FROM Service_Options\n",
    "WHERE referred_a_friend = 'Yes'\n",
    "GROUP BY loyalty_status\n",
    "ORDER BY COUNT(customer_id) DESC"
   ]
  },
  {
   "cell_type": "code",
   "execution_count": null,
   "id": "b4bbe404-54bd-436a-8e35-6c5402b66d52",
   "metadata": {},
   "outputs": [],
   "source": []
  },
  {
   "cell_type": "code",
   "execution_count": 205,
   "id": "b8f7da53-f823-47c7-9757-21a4b84e5145",
   "metadata": {},
   "outputs": [
    {
     "name": "stdout",
     "output_type": "stream",
     "text": [
      " * sqlite:////Users/tu/Documents/Tu/Data_Portfolio/Customer_churn/telco_churn.db\n",
      "Done.\n"
     ]
    },
    {
     "data": {
      "text/html": [
       "<table>\n",
       "    <thead>\n",
       "        <tr>\n",
       "            <th>loyalty_status</th>\n",
       "            <th>Number of customers who churned</th>\n",
       "        </tr>\n",
       "    </thead>\n",
       "    <tbody>\n",
       "        <tr>\n",
       "            <td>High risk of churn</td>\n",
       "            <td>784</td>\n",
       "        </tr>\n",
       "        <tr>\n",
       "            <td>Long-term customer</td>\n",
       "            <td>358</td>\n",
       "        </tr>\n",
       "        <tr>\n",
       "            <td>Moderate tenure</td>\n",
       "            <td>294</td>\n",
       "        </tr>\n",
       "        <tr>\n",
       "            <td>Early tenure</td>\n",
       "            <td>253</td>\n",
       "        </tr>\n",
       "        <tr>\n",
       "            <td>Satisfied customer</td>\n",
       "            <td>180</td>\n",
       "        </tr>\n",
       "    </tbody>\n",
       "</table>"
      ],
      "text/plain": [
       "[('High risk of churn', 784),\n",
       " ('Long-term customer', 358),\n",
       " ('Moderate tenure', 294),\n",
       " ('Early tenure', 253),\n",
       " ('Satisfied customer', 180)]"
      ]
     },
     "execution_count": 205,
     "metadata": {},
     "output_type": "execute_result"
    }
   ],
   "source": [
    "%%sql \n",
    "SELECT \n",
    "    CASE\n",
    "        WHEN tenure BETWEEN 0 AND 6 THEN 'High risk of churn'\n",
    "        WHEN tenure BETWEEN 7 AND 12 THEN 'Early tenure'\n",
    "        WHEN tenure BETWEEN 13 AND 24 THEN 'Moderate tenure'\n",
    "        WHEN tenure BETWEEN 25 AND 36 THEN 'Satisfied customer'\n",
    "        WHEN tenure BETWEEN 37 AND 60 THEN 'Long-term customer'\n",
    "        WHEN tenure>60 THEN 'Long-term customer'\n",
    "    END AS loyalty_status, \n",
    "    COUNT(customer_id) AS 'Number of customers who churned'\n",
    "FROM Service_Options\n",
    "JOIN Status_Analysis\n",
    "USING (customer_id)\n",
    "WHERE customer_status = 'Churned'\n",
    "GROUP BY loyalty_status\n",
    "ORDER BY COUNT(customer_id) DESC"
   ]
  },
  {
   "cell_type": "code",
   "execution_count": 235,
   "id": "56b5ca16-593b-4cdf-9c8b-3f2280c726a4",
   "metadata": {},
   "outputs": [
    {
     "name": "stdout",
     "output_type": "stream",
     "text": [
      " * sqlite:////Users/tu/Documents/Tu/Data_Portfolio/Customer_churn/telco_churn.db\n",
      "Done.\n"
     ]
    },
    {
     "data": {
      "text/html": [
       "<table>\n",
       "    <thead>\n",
       "        <tr>\n",
       "            <th>loyalty_status</th>\n",
       "            <th>churn_customers</th>\n",
       "            <th>referred_friends</th>\n",
       "        </tr>\n",
       "    </thead>\n",
       "    <tbody>\n",
       "        <tr>\n",
       "            <td>Long-term customer</td>\n",
       "            <td>358</td>\n",
       "            <td>1895</td>\n",
       "        </tr>\n",
       "        <tr>\n",
       "            <td>Moderate tenure</td>\n",
       "            <td>294</td>\n",
       "            <td>420</td>\n",
       "        </tr>\n",
       "        <tr>\n",
       "            <td>Satisfied customer</td>\n",
       "            <td>180</td>\n",
       "            <td>381</td>\n",
       "        </tr>\n",
       "        <tr>\n",
       "            <td>High risk of churn</td>\n",
       "            <td>784</td>\n",
       "            <td>300</td>\n",
       "        </tr>\n",
       "        <tr>\n",
       "            <td>Early tenure</td>\n",
       "            <td>253</td>\n",
       "            <td>226</td>\n",
       "        </tr>\n",
       "    </tbody>\n",
       "</table>"
      ],
      "text/plain": [
       "[('Long-term customer', 358, 1895),\n",
       " ('Moderate tenure', 294, 420),\n",
       " ('Satisfied customer', 180, 381),\n",
       " ('High risk of churn', 784, 300),\n",
       " ('Early tenure', 253, 226)]"
      ]
     },
     "execution_count": 235,
     "metadata": {},
     "output_type": "execute_result"
    }
   ],
   "source": [
    "%%sql \n",
    "SELECT \n",
    "    CASE\n",
    "        WHEN tenure BETWEEN 0 AND 6 THEN 'High risk of churn'\n",
    "        WHEN tenure BETWEEN 7 AND 12 THEN 'Early tenure'\n",
    "        WHEN tenure BETWEEN 13 AND 24 THEN 'Moderate tenure'\n",
    "        WHEN tenure BETWEEN 25 AND 36 THEN 'Satisfied customer'\n",
    "        WHEN tenure BETWEEN 37 AND 60 THEN 'Long-term customer'\n",
    "        WHEN tenure>60 THEN 'Long-term customer'\n",
    "    END AS loyalty_status, \n",
    "    COUNT(CASE WHEN customer_status = 'Churned' THEN customer_id END) AS churn_customers,\n",
    "    COUNT(CASE WHEN referred_a_friend = 'Yes' THEN customer_id END) AS referred_friends\n",
    "FROM Service_Options\n",
    "JOIN Status_Analysis\n",
    "USING (customer_id)\n",
    "GROUP BY loyalty_status\n",
    "ORDER BY referred_friends DESC"
   ]
  },
  {
   "cell_type": "code",
   "execution_count": null,
   "id": "426e0318-9a23-44ff-82e5-8835a6422bbb",
   "metadata": {},
   "outputs": [],
   "source": []
  }
 ],
 "metadata": {
  "kernelspec": {
   "display_name": "Python 3 (ipykernel)",
   "language": "python",
   "name": "python3"
  },
  "language_info": {
   "codemirror_mode": {
    "name": "ipython",
    "version": 3
   },
   "file_extension": ".py",
   "mimetype": "text/x-python",
   "name": "python",
   "nbconvert_exporter": "python",
   "pygments_lexer": "ipython3",
   "version": "3.12.4"
  }
 },
 "nbformat": 4,
 "nbformat_minor": 5
}
