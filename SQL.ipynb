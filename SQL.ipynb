{
 "cells": [
  {
   "cell_type": "markdown",
   "id": "d63e86d4-17c0-460a-af08-fb50f47e0522",
   "metadata": {},
   "source": [
    "## Analysis of customer characteristics, current offers by Telco and churn rate\n",
    "In this notebook, my goal is to look at characteristics of customers and their current Telco plans to find patterns in churn decisions as well as the tendency to refer Telco to their friends. There are two parts of the analysis: </br>\n",
    "<b> 1. Use SQL to look at the overall count of customers with specific conditions </b> </br> \n",
    "<b> 2. Use Python to visualize customer segmentation </b> </br> "
   ]
  },
  {
   "cell_type": "markdown",
   "id": "66a18672-6b3b-45fd-8825-f7422b0ed963",
   "metadata": {},
   "source": [
    "### Import data"
   ]
  },
  {
   "cell_type": "code",
   "execution_count": 31,
   "id": "cb37594f-84ae-45f8-9010-05208bdcfe7c",
   "metadata": {},
   "outputs": [],
   "source": [
    "import pandas as pd\n",
    "import sqlite3"
   ]
  },
  {
   "cell_type": "code",
   "execution_count": 32,
   "id": "12bf11f2-d123-4dd9-b1d3-7f3c1c1a93e7",
   "metadata": {},
   "outputs": [],
   "source": [
    "excel_file = \"/Users/tu/Documents/Tu/Data_Portfolio/Customer_churn/Dataset/a_IBM Telco Customers Churn Datasets.xlsx\"\n",
    "database =  \"telco_churn.db\""
   ]
  },
  {
   "cell_type": "code",
   "execution_count": 33,
   "id": "a62df3b5-56cf-47ed-8259-c15c5e1e957e",
   "metadata": {},
   "outputs": [
    {
     "name": "stdout",
     "output_type": "stream",
     "text": [
      "Loaded sheet: Customer_Info into the database\n",
      "Loaded sheet: Service_Options into the database\n",
      "Loaded sheet: Online_Services into the database\n",
      "Loaded sheet: Payment_Info into the database\n",
      "Loaded sheet: Status_Analysis into the database\n",
      "Loaded sheet: Location_Data into the database\n",
      "Sucessfully loaded all sheets\n"
     ]
    }
   ],
   "source": [
    "excel_data = pd.ExcelFile(excel_file)\n",
    "all_sheets = excel_data.sheet_names\n",
    "\n",
    "\n",
    "# exclude the Population and Telco_churn sheets\n",
    "sheets_included = all_sheets[:-2]\n",
    "\n",
    "# create a connection\n",
    "connect = sqlite3.connect(database)\n",
    "\n",
    "# load each sheet into the database\n",
    "for sheet in sheets_included:\n",
    "    df = excel_data.parse(sheet)\n",
    "    #convert the data to tables to use in sql\n",
    "    df.to_sql(sheet, connect, if_exists = 'replace', index =  'False')\n",
    "    print(f\"Loaded sheet: {sheet} into the database\")\n",
    "\n",
    "connect.close()\n",
    "print(\"Sucessfully loaded all sheets\")"
   ]
  },
  {
   "cell_type": "code",
   "execution_count": 34,
   "id": "a3daa176-bc4b-4883-80a3-6c4990368cba",
   "metadata": {},
   "outputs": [],
   "source": [
    "%load_ext sql"
   ]
  },
  {
   "cell_type": "code",
   "execution_count": 35,
   "id": "4ad51037-75f0-42bf-83cf-e5fb6f28aff4",
   "metadata": {},
   "outputs": [],
   "source": [
    "%sql sqlite:////Users/tu/Documents/Tu/Data_Portfolio/Customer_churn/telco_churn.db"
   ]
  },
  {
   "cell_type": "markdown",
   "id": "83c95b0a-1439-4377-ab6c-2947e5f536eb",
   "metadata": {},
   "source": [
    "# Data Analysis"
   ]
  },
  {
   "cell_type": "markdown",
   "id": "85e12624-aadd-43a9-a4cd-97ebc1e4668f",
   "metadata": {},
   "source": [
    "### Churn Rate"
   ]
  },
  {
   "cell_type": "code",
   "execution_count": 38,
   "id": "13aba55d-330e-4874-a7d7-729646cc71b4",
   "metadata": {},
   "outputs": [
    {
     "name": "stdout",
     "output_type": "stream",
     "text": [
      " * sqlite:////Users/tu/Documents/Tu/Data_Portfolio/Customer_churn/telco_churn.db\n",
      "Done.\n"
     ]
    },
    {
     "data": {
      "text/html": [
       "<table>\n",
       "    <thead>\n",
       "        <tr>\n",
       "            <th>Customer Status</th>\n",
       "            <th>Number of Customers</th>\n",
       "            <th>Percentage of customers</th>\n",
       "        </tr>\n",
       "    </thead>\n",
       "    <tbody>\n",
       "        <tr>\n",
       "            <td>Churned</td>\n",
       "            <td>1869</td>\n",
       "            <td>26.5</td>\n",
       "        </tr>\n",
       "        <tr>\n",
       "            <td>Joined</td>\n",
       "            <td>454</td>\n",
       "            <td>6.4</td>\n",
       "        </tr>\n",
       "        <tr>\n",
       "            <td>Stayed</td>\n",
       "            <td>4720</td>\n",
       "            <td>67.0</td>\n",
       "        </tr>\n",
       "    </tbody>\n",
       "</table>"
      ],
      "text/plain": [
       "[('Churned', 1869, 26.5), ('Joined', 454, 6.4), ('Stayed', 4720, 67.0)]"
      ]
     },
     "execution_count": 38,
     "metadata": {},
     "output_type": "execute_result"
    }
   ],
   "source": [
    "%%sql\n",
    "SELECT \n",
    "    customer_status AS 'Customer Status', \n",
    "    COUNT(customer_id) AS 'Number of Customers',\n",
    "    ROUND((COUNT(customer_id)*100.0)/(SELECT COUNT(customer_id) FROM Status_Analysis), 1) AS 'Percentage of customers'\n",
    "FROM Status_Analysis\n",
    "GROUP BY customer_status"
   ]
  },
  {
   "cell_type": "markdown",
   "id": "c5c49902-79fe-41a3-b893-822031c95461",
   "metadata": {},
   "source": [
    "<b>Churn rate: 26.5% </b> </br>\n",
    "Churned customers account for over a quarter of total number of customers, which is considered high. This means that we should look at the reasons or similar patterns why many customers left Telco. </br>\n",
    "</br>\n",
    "<b>Percent of new customers: 6.4%</b> <br>\n",
    "This indicates that while there are still new customers joining, the rate of joining is much lower than the rate of customers leaving. Telco needs to improve their strategies to attract new customers.</br>\n",
    "</br>\n",
    "<b>Percent of loyal customers: 67%</b> <br>\n",
    "Large amount of customers choose to stay with Telco. This shows the need for Telco to improve customer satisfaction while working on loyalty programs for existing customers."
   ]
  },
  {
   "cell_type": "markdown",
   "id": "44325626-469d-432a-b945-61c89da2cd98",
   "metadata": {},
   "source": [
    "### Churn Rate by customers demographics"
   ]
  },
  {
   "cell_type": "code",
   "execution_count": 41,
   "id": "0ed16f89-94c1-418a-ac3e-2e1a02d8b334",
   "metadata": {},
   "outputs": [
    {
     "name": "stdout",
     "output_type": "stream",
     "text": [
      " * sqlite:////Users/tu/Documents/Tu/Data_Portfolio/Customer_churn/telco_churn.db\n",
      "Done.\n"
     ]
    },
    {
     "data": {
      "text/html": [
       "<table>\n",
       "    <thead>\n",
       "        <tr>\n",
       "            <th>gender</th>\n",
       "            <th>Number of customers</th>\n",
       "        </tr>\n",
       "    </thead>\n",
       "    <tbody>\n",
       "        <tr>\n",
       "            <td>Female</td>\n",
       "            <td>939</td>\n",
       "        </tr>\n",
       "        <tr>\n",
       "            <td>Male</td>\n",
       "            <td>930</td>\n",
       "        </tr>\n",
       "    </tbody>\n",
       "</table>"
      ],
      "text/plain": [
       "[('Female', 939), ('Male', 930)]"
      ]
     },
     "execution_count": 41,
     "metadata": {},
     "output_type": "execute_result"
    }
   ],
   "source": [
    "%%sql \n",
    "SELECT c.gender, COUNT(c.customer_id) AS 'Number of customers'\n",
    "FROM Customer_Info as c\n",
    "JOIN Status_Analysis as s\n",
    "ON c.customer_id = s.customer_id\n",
    "WHERE customer_status = 'Churned'\n",
    "GROUP BY c.gender"
   ]
  },
  {
   "cell_type": "markdown",
   "id": "d253fccf-87cd-4541-9da0-dfb13bdcc030",
   "metadata": {},
   "source": [
    "<b> Gender </b> </br> \n",
    "Number of customers who left is equal for both male and female. There is no evidence that genders affect customers' decision to leave in this dataset."
   ]
  },
  {
   "cell_type": "code",
   "execution_count": 43,
   "id": "17cc12db-4946-43aa-97cf-85f62487d5ca",
   "metadata": {},
   "outputs": [
    {
     "name": "stdout",
     "output_type": "stream",
     "text": [
      " * sqlite:////Users/tu/Documents/Tu/Data_Portfolio/Customer_churn/telco_churn.db\n",
      "Done.\n"
     ]
    },
    {
     "data": {
      "text/html": [
       "<table>\n",
       "    <thead>\n",
       "        <tr>\n",
       "            <th>age_group</th>\n",
       "            <th>Number of customers</th>\n",
       "        </tr>\n",
       "    </thead>\n",
       "    <tbody>\n",
       "        <tr>\n",
       "            <td>Gen X</td>\n",
       "            <td>2065</td>\n",
       "        </tr>\n",
       "        <tr>\n",
       "            <td>Millennials</td>\n",
       "            <td>2032</td>\n",
       "        </tr>\n",
       "        <tr>\n",
       "            <td>Baby Boomers</td>\n",
       "            <td>1782</td>\n",
       "        </tr>\n",
       "        <tr>\n",
       "            <td>Gen Z</td>\n",
       "            <td>1164</td>\n",
       "        </tr>\n",
       "    </tbody>\n",
       "</table>"
      ],
      "text/plain": [
       "[('Gen X', 2065),\n",
       " ('Millennials', 2032),\n",
       " ('Baby Boomers', 1782),\n",
       " ('Gen Z', 1164)]"
      ]
     },
     "execution_count": 43,
     "metadata": {},
     "output_type": "execute_result"
    }
   ],
   "source": [
    "%%sql \n",
    "SELECT \n",
    "    CASE \n",
    "        WHEN c.age >= 60 THEN 'Baby Boomers'\n",
    "        WHEN c.age BETWEEN 44 AND 59 THEN 'Gen X'\n",
    "        WHEN c.age BETWEEN 28 AND 43 THEN 'Millennials'\n",
    "        WHEN c.age BETWEEN 19 AND 27 THEN 'Gen Z'\n",
    "    END AS age_group,\n",
    "    COUNT(customer_id) AS 'Number of customers'\n",
    "FROM Customer_Info as c\n",
    "JOIN Status_Analysis as s\n",
    "USING (customer_id) \n",
    "GROUP BY age_group \n",
    "ORDER BY COUNT(customer_id) DESC"
   ]
  },
  {
   "cell_type": "code",
   "execution_count": 44,
   "id": "c3f3e5c5-3379-4f45-b701-10c4762557fa",
   "metadata": {},
   "outputs": [
    {
     "name": "stdout",
     "output_type": "stream",
     "text": [
      " * sqlite:////Users/tu/Documents/Tu/Data_Portfolio/Customer_churn/telco_churn.db\n",
      "Done.\n"
     ]
    },
    {
     "data": {
      "text/html": [
       "<table>\n",
       "    <thead>\n",
       "        <tr>\n",
       "            <th>age_group</th>\n",
       "            <th>churn_rate</th>\n",
       "        </tr>\n",
       "    </thead>\n",
       "    <tbody>\n",
       "        <tr>\n",
       "            <td>Baby Boomers</td>\n",
       "            <td>9.0</td>\n",
       "        </tr>\n",
       "        <tr>\n",
       "            <td>Gen X</td>\n",
       "            <td>7.1</td>\n",
       "        </tr>\n",
       "        <tr>\n",
       "            <td>Millennials</td>\n",
       "            <td>6.9</td>\n",
       "        </tr>\n",
       "        <tr>\n",
       "            <td>Gen Z</td>\n",
       "            <td>3.6</td>\n",
       "        </tr>\n",
       "    </tbody>\n",
       "</table>"
      ],
      "text/plain": [
       "[('Baby Boomers', 9.0), ('Gen X', 7.1), ('Millennials', 6.9), ('Gen Z', 3.6)]"
      ]
     },
     "execution_count": 44,
     "metadata": {},
     "output_type": "execute_result"
    }
   ],
   "source": [
    "%%sql \n",
    "SELECT \n",
    "    CASE \n",
    "        WHEN c.age >= 60 THEN 'Baby Boomers'\n",
    "        WHEN c.age BETWEEN 44 AND 59 THEN 'Gen X'\n",
    "        WHEN c.age BETWEEN 28 AND 43 THEN 'Millennials'\n",
    "        WHEN c.age BETWEEN 19 AND 27 THEN 'Gen Z'\n",
    "        ELSE 'Other'\n",
    "    END AS age_group,\n",
    "    ROUND((COUNT(customer_id)*100.0)/(SELECT COUNT(customer_id) FROM Customer_Info), 1) AS churn_rate\n",
    "FROM Customer_Info as c\n",
    "JOIN Status_Analysis as s\n",
    "USING (customer_id) \n",
    "WHERE customer_status =  'Churned'\n",
    "GROUP BY age_group \n",
    "ORDER BY churn_rate DESC"
   ]
  },
  {
   "cell_type": "markdown",
   "id": "873d1600-fe54-4d7d-ad9e-09dded5705ab",
   "metadata": {},
   "source": [
    "<b> Age </b> </br> \n",
    "Majority of the customers are Gen X and Millennials. Baby Boomers accounts for the second smallest fraction of total customers and have the highest churn rate among all age group. This calls for changes in marketing strategies for this particular age group, as well as changes in offers and customer services."
   ]
  },
  {
   "cell_type": "markdown",
   "id": "21542aa4-6163-4482-a457-c6ab115c3a5d",
   "metadata": {},
   "source": [
    "### Main reason for churn"
   ]
  },
  {
   "cell_type": "code",
   "execution_count": 47,
   "id": "a0423aad-f193-4b7a-807e-eee588399d7c",
   "metadata": {},
   "outputs": [
    {
     "name": "stdout",
     "output_type": "stream",
     "text": [
      " * sqlite:////Users/tu/Documents/Tu/Data_Portfolio/Customer_churn/telco_churn.db\n",
      "Done.\n"
     ]
    },
    {
     "data": {
      "text/html": [
       "<table>\n",
       "    <thead>\n",
       "        <tr>\n",
       "            <th>Reason</th>\n",
       "            <th>Number of customers</th>\n",
       "        </tr>\n",
       "    </thead>\n",
       "    <tbody>\n",
       "        <tr>\n",
       "            <td>Competitor</td>\n",
       "            <td>841</td>\n",
       "        </tr>\n",
       "        <tr>\n",
       "            <td>Attitude</td>\n",
       "            <td>314</td>\n",
       "        </tr>\n",
       "        <tr>\n",
       "            <td>Dissatisfaction</td>\n",
       "            <td>303</td>\n",
       "        </tr>\n",
       "        <tr>\n",
       "            <td>Price</td>\n",
       "            <td>211</td>\n",
       "        </tr>\n",
       "        <tr>\n",
       "            <td>Other</td>\n",
       "            <td>200</td>\n",
       "        </tr>\n",
       "    </tbody>\n",
       "</table>"
      ],
      "text/plain": [
       "[('Competitor', 841),\n",
       " ('Attitude', 314),\n",
       " ('Dissatisfaction', 303),\n",
       " ('Price', 211),\n",
       " ('Other', 200)]"
      ]
     },
     "execution_count": 47,
     "metadata": {},
     "output_type": "execute_result"
    }
   ],
   "source": [
    "%%sql \n",
    "SELECT \n",
    "    churn_category AS 'Reason', \n",
    "    COUNT(customer_id) AS 'Number of customers'\n",
    "FROM Status_Analysis\n",
    "WHERE customer_status = 'Churned'\n",
    "GROUP BY churn_category\n",
    "ORDER BY COUNT(customer_id) DESC"
   ]
  },
  {
   "cell_type": "markdown",
   "id": "004a6a3c-89b0-450e-b8f4-8cd6d21565cb",
   "metadata": {},
   "source": [
    "<b> Main reason for churning: Competitor </b> </br> \n",
    "Significant number of customers (over 800 customers) decide to leave Telco for other companies. This means that there is a chance that offers or plans by Telco is not as appealing as other competitors. Since we don't have information on other companies' offerings, we can use our current dataset to narrow down factors that can lead to higher churn rate of customers. \n"
   ]
  },
  {
   "cell_type": "code",
   "execution_count": 49,
   "id": "a0778f3f-d5de-4e40-a103-3dcf9aaca581",
   "metadata": {},
   "outputs": [
    {
     "name": "stdout",
     "output_type": "stream",
     "text": [
      " * sqlite:////Users/tu/Documents/Tu/Data_Portfolio/Customer_churn/telco_churn.db\n",
      "Done.\n"
     ]
    },
    {
     "data": {
      "text/html": [
       "<table>\n",
       "    <thead>\n",
       "        <tr>\n",
       "            <th>offer</th>\n",
       "            <th>Number of customers who churned</th>\n",
       "        </tr>\n",
       "    </thead>\n",
       "    <tbody>\n",
       "        <tr>\n",
       "            <td>None</td>\n",
       "            <td>1051</td>\n",
       "        </tr>\n",
       "        <tr>\n",
       "            <td>Offer E</td>\n",
       "            <td>426</td>\n",
       "        </tr>\n",
       "        <tr>\n",
       "            <td>Offer D</td>\n",
       "            <td>161</td>\n",
       "        </tr>\n",
       "        <tr>\n",
       "            <td>Offer B</td>\n",
       "            <td>101</td>\n",
       "        </tr>\n",
       "        <tr>\n",
       "            <td>Offer C</td>\n",
       "            <td>95</td>\n",
       "        </tr>\n",
       "        <tr>\n",
       "            <td>Offer A</td>\n",
       "            <td>35</td>\n",
       "        </tr>\n",
       "    </tbody>\n",
       "</table>"
      ],
      "text/plain": [
       "[(None, 1051),\n",
       " ('Offer E', 426),\n",
       " ('Offer D', 161),\n",
       " ('Offer B', 101),\n",
       " ('Offer C', 95),\n",
       " ('Offer A', 35)]"
      ]
     },
     "execution_count": 49,
     "metadata": {},
     "output_type": "execute_result"
    }
   ],
   "source": [
    "%%sql \n",
    "SELECT offer, COUNT(customer_id) AS 'Number of customers who churned'\n",
    "FROM Service_Options\n",
    "JOIN Status_Analysis\n",
    "USING (customer_id)\n",
    "WHERE customer_status = 'Churned'\n",
    "GROUP BY offer\n",
    "ORDER BY COUNT(customer_id) DESC"
   ]
  },
  {
   "cell_type": "markdown",
   "id": "5bf61301-b548-4098-a99d-7f2f6f4f87e0",
   "metadata": {},
   "source": [
    "<b> Number of churned customers by offers received </b> </br>\n",
    "Customers who received no offer tend to leave Telco more than those that receive certain type of offer. Offer A seems to be the best in terms of keeping loyal customers. "
   ]
  },
  {
   "cell_type": "markdown",
   "id": "ccfb1a93-fdf8-412a-8fa7-a2418e0e4234",
   "metadata": {},
   "source": [
    "### Analysis of current offers "
   ]
  },
  {
   "cell_type": "markdown",
   "id": "f9e50425-7dc6-4fd6-beac-d7f935590d21",
   "metadata": {},
   "source": [
    "#### Likeliness to refer to a friend based on the offer they received"
   ]
  },
  {
   "cell_type": "code",
   "execution_count": 53,
   "id": "5ef38714-b3ff-422c-b21e-6437d728377c",
   "metadata": {},
   "outputs": [
    {
     "name": "stdout",
     "output_type": "stream",
     "text": [
      " * sqlite:////Users/tu/Documents/Tu/Data_Portfolio/Customer_churn/telco_churn.db\n",
      "Done.\n"
     ]
    },
    {
     "data": {
      "text/html": [
       "<table>\n",
       "    <thead>\n",
       "        <tr>\n",
       "            <th>offer</th>\n",
       "            <th>Number of customers who referred a friend</th>\n",
       "            <th>customers_by_offer</th>\n",
       "            <th>referral_percent</th>\n",
       "        </tr>\n",
       "    </thead>\n",
       "    <tbody>\n",
       "        <tr>\n",
       "            <td>Offer A</td>\n",
       "            <td>388</td>\n",
       "            <td>520</td>\n",
       "            <td>74.6</td>\n",
       "        </tr>\n",
       "        <tr>\n",
       "            <td>Offer B</td>\n",
       "            <td>490</td>\n",
       "            <td>824</td>\n",
       "            <td>59.5</td>\n",
       "        </tr>\n",
       "        <tr>\n",
       "            <td>None</td>\n",
       "            <td>1758</td>\n",
       "            <td>3877</td>\n",
       "            <td>45.3</td>\n",
       "        </tr>\n",
       "        <tr>\n",
       "            <td>Offer C</td>\n",
       "            <td>184</td>\n",
       "            <td>415</td>\n",
       "            <td>44.3</td>\n",
       "        </tr>\n",
       "        <tr>\n",
       "            <td>Offer D</td>\n",
       "            <td>220</td>\n",
       "            <td>602</td>\n",
       "            <td>36.5</td>\n",
       "        </tr>\n",
       "        <tr>\n",
       "            <td>Offer E</td>\n",
       "            <td>182</td>\n",
       "            <td>805</td>\n",
       "            <td>22.6</td>\n",
       "        </tr>\n",
       "    </tbody>\n",
       "</table>"
      ],
      "text/plain": [
       "[('Offer A', 388, 520, 74.6),\n",
       " ('Offer B', 490, 824, 59.5),\n",
       " (None, 1758, 3877, 45.3),\n",
       " ('Offer C', 184, 415, 44.3),\n",
       " ('Offer D', 220, 602, 36.5),\n",
       " ('Offer E', 182, 805, 22.6)]"
      ]
     },
     "execution_count": 53,
     "metadata": {},
     "output_type": "execute_result"
    }
   ],
   "source": [
    "%%sql\n",
    "WITH CustomerCounts AS (\n",
    "    SELECT \n",
    "        offer,\n",
    "        COUNT(CASE WHEN referred_a_friend = 'Yes' THEN customer_id END) AS customers_referred, \n",
    "        COUNT(customer_id)AS customers_by_offer\n",
    "    FROM Service_Options\n",
    "    GROUP BY offer\n",
    ")\n",
    "SELECT \n",
    "    offer,\n",
    "    customers_referred AS \"Number of customers who referred a friend\",\n",
    "    customers_by_offer,\n",
    "    ROUND(customers_referred * 100.0 / customers_by_offer, 1) AS referral_percent\n",
    "FROM CustomerCounts\n",
    "ORDER BY referral_percent DESC"
   ]
  },
  {
   "cell_type": "markdown",
   "id": "0ca3da82-b07d-4f03-8a6c-1f5116abb983",
   "metadata": {},
   "source": [
    "<b> Offers and tendency to refer to other people </b> </br>\n",
    "Offer A has the highest proportion of customers who made a referral to their friends. Combined with previous result, offer A works best in both keeping current customers and expanding Telco to potential new customers through referrals. "
   ]
  },
  {
   "cell_type": "markdown",
   "id": "e271de75-7654-4a01-ac9b-aae35f140846",
   "metadata": {},
   "source": [
    "#### Do customers with higher tenure more likely to refer to more friends?"
   ]
  },
  {
   "cell_type": "code",
   "execution_count": 56,
   "id": "56b5ca16-593b-4cdf-9c8b-3f2280c726a4",
   "metadata": {},
   "outputs": [
    {
     "name": "stdout",
     "output_type": "stream",
     "text": [
      " * sqlite:////Users/tu/Documents/Tu/Data_Portfolio/Customer_churn/telco_churn.db\n",
      "Done.\n"
     ]
    },
    {
     "data": {
      "text/html": [
       "<table>\n",
       "    <thead>\n",
       "        <tr>\n",
       "            <th>loyalty_status</th>\n",
       "            <th>churn_customers</th>\n",
       "            <th>referred_friends</th>\n",
       "        </tr>\n",
       "    </thead>\n",
       "    <tbody>\n",
       "        <tr>\n",
       "            <td>Long-term customer</td>\n",
       "            <td>358</td>\n",
       "            <td>1895</td>\n",
       "        </tr>\n",
       "        <tr>\n",
       "            <td>Moderate tenure</td>\n",
       "            <td>294</td>\n",
       "            <td>420</td>\n",
       "        </tr>\n",
       "        <tr>\n",
       "            <td>Satisfied customer</td>\n",
       "            <td>180</td>\n",
       "            <td>381</td>\n",
       "        </tr>\n",
       "        <tr>\n",
       "            <td>High risk of churn</td>\n",
       "            <td>784</td>\n",
       "            <td>300</td>\n",
       "        </tr>\n",
       "        <tr>\n",
       "            <td>Early tenure</td>\n",
       "            <td>253</td>\n",
       "            <td>226</td>\n",
       "        </tr>\n",
       "    </tbody>\n",
       "</table>"
      ],
      "text/plain": [
       "[('Long-term customer', 358, 1895),\n",
       " ('Moderate tenure', 294, 420),\n",
       " ('Satisfied customer', 180, 381),\n",
       " ('High risk of churn', 784, 300),\n",
       " ('Early tenure', 253, 226)]"
      ]
     },
     "execution_count": 56,
     "metadata": {},
     "output_type": "execute_result"
    }
   ],
   "source": [
    "%%sql \n",
    "SELECT \n",
    "    CASE\n",
    "        WHEN tenure BETWEEN 0 AND 6 THEN 'High risk of churn'\n",
    "        WHEN tenure BETWEEN 7 AND 12 THEN 'Early tenure'\n",
    "        WHEN tenure BETWEEN 13 AND 24 THEN 'Moderate tenure'\n",
    "        WHEN tenure BETWEEN 25 AND 36 THEN 'Satisfied customer'\n",
    "        WHEN tenure BETWEEN 37 AND 60 THEN 'Long-term customer'\n",
    "        WHEN tenure>60 THEN 'Long-term customer'\n",
    "    END AS loyalty_status, \n",
    "    COUNT(CASE WHEN customer_status = 'Churned' THEN customer_id END) AS churn_customers,\n",
    "    COUNT(CASE WHEN referred_a_friend = 'Yes' THEN customer_id END) AS referred_friends\n",
    "FROM Service_Options\n",
    "JOIN Status_Analysis\n",
    "USING (customer_id)\n",
    "GROUP BY loyalty_status\n",
    "ORDER BY referred_friends DESC"
   ]
  },
  {
   "cell_type": "markdown",
   "id": "95316bd0-5b15-4132-9b99-d0efd1e26d71",
   "metadata": {},
   "source": [
    "<b> Likeliness of churn </b> </br>\n",
    "Long-term customers are second most likely to leave Telco, following customers that are categorized as having high risk of churn. This signifies that Telco needs to improve their brand loyalty by creating rewards programs or collecting more feedbacks on customers. </br>\n",
    "\n",
    "<b> Likeliness of referring a friend </b> </br>\n",
    "Telco can expand their customer referral program to "
   ]
  },
  {
   "cell_type": "markdown",
   "id": "274e20d1-e08c-4531-9b01-49c88bc464bf",
   "metadata": {},
   "source": [
    "### % of customers for each type of payment, by customer status"
   ]
  },
  {
   "cell_type": "code",
   "execution_count": 60,
   "id": "3230dd23-e41d-41e3-b132-0ef9c5f85bbe",
   "metadata": {},
   "outputs": [
    {
     "name": "stdout",
     "output_type": "stream",
     "text": [
      " * sqlite:////Users/tu/Documents/Tu/Data_Portfolio/Customer_churn/telco_churn.db\n",
      "Done.\n"
     ]
    },
    {
     "data": {
      "text/html": [
       "<table>\n",
       "    <thead>\n",
       "        <tr>\n",
       "            <th>customer_status</th>\n",
       "            <th>payment_method</th>\n",
       "            <th>Number of customers</th>\n",
       "            <th>Total customers by status</th>\n",
       "            <th>Percentage by customer status (%)</th>\n",
       "        </tr>\n",
       "    </thead>\n",
       "    <tbody>\n",
       "        <tr>\n",
       "            <td>Churned</td>\n",
       "            <td>Bank transfer (automatic)</td>\n",
       "            <td>258</td>\n",
       "            <td>1869</td>\n",
       "            <td>13.8</td>\n",
       "        </tr>\n",
       "        <tr>\n",
       "            <td>Churned</td>\n",
       "            <td>Credit card (automatic)</td>\n",
       "            <td>232</td>\n",
       "            <td>1869</td>\n",
       "            <td>12.4</td>\n",
       "        </tr>\n",
       "        <tr>\n",
       "            <td>Churned</td>\n",
       "            <td>Electronic check</td>\n",
       "            <td>1071</td>\n",
       "            <td>1869</td>\n",
       "            <td>57.3</td>\n",
       "        </tr>\n",
       "        <tr>\n",
       "            <td>Churned</td>\n",
       "            <td>Mailed check</td>\n",
       "            <td>308</td>\n",
       "            <td>1869</td>\n",
       "            <td>16.5</td>\n",
       "        </tr>\n",
       "    </tbody>\n",
       "</table>"
      ],
      "text/plain": [
       "[('Churned', 'Bank transfer (automatic)', 258, 1869, 13.8),\n",
       " ('Churned', 'Credit card (automatic)', 232, 1869, 12.4),\n",
       " ('Churned', 'Electronic check', 1071, 1869, 57.3),\n",
       " ('Churned', 'Mailed check', 308, 1869, 16.5)]"
      ]
     },
     "execution_count": 60,
     "metadata": {},
     "output_type": "execute_result"
    }
   ],
   "source": [
    "%%sql\n",
    "SELECT \n",
    "    s.customer_status, \n",
    "    p.payment_method, \n",
    "    COUNT(p.customer_id) AS 'Number of customers',\n",
    "    SUM(COUNT(s.customer_id)) OVER (PARTITION BY s.customer_status) AS 'Total customers by status',\n",
    "    ROUND(COUNT(p.customer_id)*100.0/SUM(COUNT(s.customer_id)) OVER (PARTITION BY s.customer_status), 1) AS 'Percentage by customer status (%)'\n",
    "FROM Payment_Info AS p \n",
    "JOIN Status_Analysis AS s\n",
    "USING (customer_id)\n",
    "WHERE s.customer_status = 'Churned'\n",
    "GROUP BY p.payment_method"
   ]
  },
  {
   "cell_type": "code",
   "execution_count": 61,
   "id": "16781a7b-4b20-448b-b214-347b76019f52",
   "metadata": {},
   "outputs": [
    {
     "name": "stdout",
     "output_type": "stream",
     "text": [
      " * sqlite:////Users/tu/Documents/Tu/Data_Portfolio/Customer_churn/telco_churn.db\n",
      "Done.\n"
     ]
    },
    {
     "data": {
      "text/html": [
       "<table>\n",
       "    <thead>\n",
       "        <tr>\n",
       "            <th>customer_status</th>\n",
       "            <th>payment_method</th>\n",
       "            <th>Number of customers</th>\n",
       "            <th>Total customers by payment method</th>\n",
       "            <th>Percentage by payment method (%)</th>\n",
       "        </tr>\n",
       "    </thead>\n",
       "    <tbody>\n",
       "        <tr>\n",
       "            <td>Churned</td>\n",
       "            <td>Bank transfer (automatic)</td>\n",
       "            <td>258</td>\n",
       "            <td>1544</td>\n",
       "            <td>16.7</td>\n",
       "        </tr>\n",
       "        <tr>\n",
       "            <td>Joined</td>\n",
       "            <td>Bank transfer (automatic)</td>\n",
       "            <td>33</td>\n",
       "            <td>1544</td>\n",
       "            <td>2.1</td>\n",
       "        </tr>\n",
       "        <tr>\n",
       "            <td>Stayed</td>\n",
       "            <td>Bank transfer (automatic)</td>\n",
       "            <td>1253</td>\n",
       "            <td>1544</td>\n",
       "            <td>81.2</td>\n",
       "        </tr>\n",
       "        <tr>\n",
       "            <td>Churned</td>\n",
       "            <td>Credit card (automatic)</td>\n",
       "            <td>232</td>\n",
       "            <td>1522</td>\n",
       "            <td>15.2</td>\n",
       "        </tr>\n",
       "        <tr>\n",
       "            <td>Joined</td>\n",
       "            <td>Credit card (automatic)</td>\n",
       "            <td>39</td>\n",
       "            <td>1522</td>\n",
       "            <td>2.6</td>\n",
       "        </tr>\n",
       "        <tr>\n",
       "            <td>Stayed</td>\n",
       "            <td>Credit card (automatic)</td>\n",
       "            <td>1251</td>\n",
       "            <td>1522</td>\n",
       "            <td>82.2</td>\n",
       "        </tr>\n",
       "        <tr>\n",
       "            <td>Churned</td>\n",
       "            <td>Electronic check</td>\n",
       "            <td>1071</td>\n",
       "            <td>2365</td>\n",
       "            <td>45.3</td>\n",
       "        </tr>\n",
       "        <tr>\n",
       "            <td>Joined</td>\n",
       "            <td>Electronic check</td>\n",
       "            <td>148</td>\n",
       "            <td>2365</td>\n",
       "            <td>6.3</td>\n",
       "        </tr>\n",
       "        <tr>\n",
       "            <td>Stayed</td>\n",
       "            <td>Electronic check</td>\n",
       "            <td>1146</td>\n",
       "            <td>2365</td>\n",
       "            <td>48.5</td>\n",
       "        </tr>\n",
       "        <tr>\n",
       "            <td>Churned</td>\n",
       "            <td>Mailed check</td>\n",
       "            <td>308</td>\n",
       "            <td>1612</td>\n",
       "            <td>19.1</td>\n",
       "        </tr>\n",
       "        <tr>\n",
       "            <td>Joined</td>\n",
       "            <td>Mailed check</td>\n",
       "            <td>234</td>\n",
       "            <td>1612</td>\n",
       "            <td>14.5</td>\n",
       "        </tr>\n",
       "        <tr>\n",
       "            <td>Stayed</td>\n",
       "            <td>Mailed check</td>\n",
       "            <td>1070</td>\n",
       "            <td>1612</td>\n",
       "            <td>66.4</td>\n",
       "        </tr>\n",
       "    </tbody>\n",
       "</table>"
      ],
      "text/plain": [
       "[('Churned', 'Bank transfer (automatic)', 258, 1544, 16.7),\n",
       " ('Joined', 'Bank transfer (automatic)', 33, 1544, 2.1),\n",
       " ('Stayed', 'Bank transfer (automatic)', 1253, 1544, 81.2),\n",
       " ('Churned', 'Credit card (automatic)', 232, 1522, 15.2),\n",
       " ('Joined', 'Credit card (automatic)', 39, 1522, 2.6),\n",
       " ('Stayed', 'Credit card (automatic)', 1251, 1522, 82.2),\n",
       " ('Churned', 'Electronic check', 1071, 2365, 45.3),\n",
       " ('Joined', 'Electronic check', 148, 2365, 6.3),\n",
       " ('Stayed', 'Electronic check', 1146, 2365, 48.5),\n",
       " ('Churned', 'Mailed check', 308, 1612, 19.1),\n",
       " ('Joined', 'Mailed check', 234, 1612, 14.5),\n",
       " ('Stayed', 'Mailed check', 1070, 1612, 66.4)]"
      ]
     },
     "execution_count": 61,
     "metadata": {},
     "output_type": "execute_result"
    }
   ],
   "source": [
    "%%sql\n",
    "-- This is onot helpful \n",
    "SELECT \n",
    "    s.customer_status, \n",
    "    p.payment_method, \n",
    "    COUNT(p.customer_id) AS 'Number of customers',\n",
    "    SUM(COUNT(p.customer_id)) OVER (PARTITION BY p.payment_method) AS 'Total customers by payment method',\n",
    "    ROUND(COUNT(p.customer_id)*100.0/SUM(COUNT(p.customer_id)) OVER (PARTITION BY p.payment_method), 1) AS 'Percentage by payment method (%)'\n",
    "FROM Payment_Info AS p \n",
    "JOIN Status_Analysis AS s\n",
    "USING (customer_id)\n",
    "GROUP BY p.payment_method, s.customer_status"
   ]
  },
  {
   "cell_type": "markdown",
   "id": "f6fc70d2-7a0d-4cca-a23a-07daae00c616",
   "metadata": {},
   "source": [
    "#### Number of dependents and churn - pie chart"
   ]
  },
  {
   "cell_type": "code",
   "execution_count": 81,
   "id": "6b3d4d6f-7251-432a-a4af-8e4316bf2c2c",
   "metadata": {},
   "outputs": [
    {
     "ename": "NameError",
     "evalue": "name 'library' is not defined",
     "output_type": "error",
     "traceback": [
      "\u001b[0;31m---------------------------------------------------------------------------\u001b[0m",
      "\u001b[0;31mNameError\u001b[0m                                 Traceback (most recent call last)",
      "Cell \u001b[0;32mIn[81], line 1\u001b[0m\n\u001b[0;32m----> 1\u001b[0m library(ggplot2)\n",
      "\u001b[0;31mNameError\u001b[0m: name 'library' is not defined"
     ]
    }
   ],
   "source": [
    "library(ggplot2)"
   ]
  },
  {
   "cell_type": "code",
   "execution_count": null,
   "id": "85a666a2-39ee-41cf-8987-4b0f3de8bae9",
   "metadata": {},
   "outputs": [],
   "source": [
    "\n",
    "payment_methods =  ['Bank transfer (automatic)', 'Credit card', 'Electronic check', 'Mailed checked']\n"
   ]
  },
  {
   "cell_type": "code",
   "execution_count": null,
   "id": "fdb2fbf1-0361-4676-ada8-0d6bba72d243",
   "metadata": {},
   "outputs": [],
   "source": []
  }
 ],
 "metadata": {
  "kernelspec": {
   "display_name": "Python 3 (ipykernel)",
   "language": "python",
   "name": "python3"
  },
  "language_info": {
   "codemirror_mode": {
    "name": "ipython",
    "version": 3
   },
   "file_extension": ".py",
   "mimetype": "text/x-python",
   "name": "python",
   "nbconvert_exporter": "python",
   "pygments_lexer": "ipython3",
   "version": "3.12.4"
  }
 },
 "nbformat": 4,
 "nbformat_minor": 5
}
